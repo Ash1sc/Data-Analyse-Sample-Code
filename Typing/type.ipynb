{
 "cells": [
  {
   "cell_type": "markdown",
   "metadata": {},
   "source": [
    "# TYPING IN PYTHON\n",
    "[视频链接](https://www.bilibili.com/video/BV1Hp4y1M7gq)"
   ]
  },
  {
   "cell_type": "markdown",
   "metadata": {},
   "source": [
    "## 类型注解放在什么地方\n",
    "变量后面或者函数后面\n",
    "### 变量类型\n",
    "- int\n",
    "- float\n",
    "- str\n",
    "- bool\n",
    "- bytes\n",
    "- Any\n",
    "- Tuple\n",
    "- List, list[dtype]\n",
    "- Dist, dict[type(key),type(value)]\n",
    "\n",
    "既可以是Python的基础类型，也可以是未实例化的类或者是typing里面提供的泛型"
   ]
  },
  {
   "cell_type": "code",
   "execution_count": null,
   "metadata": {},
   "outputs": [],
   "source": [
    "def f(a: int, b: int) -> int:\n",
    "    return a + b"
   ]
  },
  {
   "cell_type": "markdown",
   "metadata": {},
   "source": [
    "## 使用自己的类进行注解\n",
    "### 注意循环引入的问题\n",
    "解决方式：\n",
    "- TYPE_CHECKING: 有时候没啥用\n",
    "```python\n",
    "if TYPE_CHECKING:\n",
    "    from student import student\n",
    "```\n",
    "- 在一个注解的类型名称外面加''\n",
    "```python\n",
    "def get_student_name(self, s:'Student')->str:\n",
    "    return s.get_student_name()\n",
    "```\n",
    "- import annotations 仓库\n",
    "其实是自动在循环引用的类型外部加引号\n",
    "```python\n",
    "from __future__ import annotations\n",
    "```"
   ]
  },
  {
   "cell_type": "code",
   "execution_count": 6,
   "metadata": {},
   "outputs": [],
   "source": [
    "from __future__ import annotations\n",
    "\n",
    "\n",
    "class Teacher:\n",
    "    def get_name(self) -> str:\n",
    "        return \"sch\"\n",
    "\n",
    "    # 出现了循环引入的问题\n",
    "    # 1. 在一个类的外面加引号\n",
    "    # def get_student_name(self, s: 'Student') -> str:\n",
    "    def get_student_name(self, s: Student) -> str:\n",
    "        return s.get_name()\n",
    "\n",
    "\n",
    "class Student:\n",
    "    def get_name(self) -> str:\n",
    "        return \"zhaoyue\"\n",
    "\n",
    "    # 标注自定义类帮助获取自定义类中函数所标注的typing信息\n",
    "    def get_teacher_name(self, teacher: Teacher) -> str:\n",
    "        return teacher.get_name()"
   ]
  },
  {
   "cell_type": "code",
   "execution_count": 3,
   "metadata": {},
   "outputs": [
    {
     "name": "stdout",
     "output_type": "stream",
     "text": [
      "zhaoyue\n",
      "sch\n"
     ]
    }
   ],
   "source": [
    "s = Student()\n",
    "t = Teacher()\n",
    "\n",
    "print(s.get_name())\n",
    "print(s.get_teacher_name(t))"
   ]
  },
  {
   "cell_type": "markdown",
   "metadata": {},
   "source": [
    "## final不能修改的注解器\n"
   ]
  },
  {
   "cell_type": "markdown",
   "metadata": {},
   "source": [
    "python中没有常量这一概念，但可以限定某些变量不能被修改\n",
    "\n",
    "Final: 设置变量不能被修改\n",
    "@final: 装饰器，设置父类 函数不能被子类函数覆盖"
   ]
  },
  {
   "cell_type": "code",
   "execution_count": 2,
   "metadata": {},
   "outputs": [
    {
     "name": "stdout",
     "output_type": "stream",
     "text": [
      "11\n"
     ]
    }
   ],
   "source": [
    "from typing import Final, final\n",
    "\n",
    "a: Final[int] = 10\n",
    "\n",
    "\n",
    "class Human:\n",
    "\n",
    "    @final\n",
    "    def get_name(self) -> str:\n",
    "        return \"\""
   ]
  },
  {
   "cell_type": "markdown",
   "metadata": {},
   "source": [
    "## 类型注解选项\n",
    "- Optional：在变量初始化的时候\n",
    "Optional[Teacher]: 既可以是Teacher， 也可以是None\n",
    "也可以：Teacher | None\n",
    "- Union: 参数中\n",
    "Union[str, int]: 函数参数既可以是str也可以是int\n",
    "也可以：str | int\n",
    "\n",
    "更精确的定义函数的类型 "
   ]
  },
  {
   "cell_type": "markdown",
   "metadata": {},
   "source": [
    "## 特殊类型\n",
    "- Self：返回类自身,return this 的情形\n",
    "有助于链式调用\n",
    "\n",
    "- ClassVar：相当于static"
   ]
  },
  {
   "cell_type": "code",
   "execution_count": 33,
   "metadata": {},
   "outputs": [
    {
     "name": "stdout",
     "output_type": "stream",
     "text": [
      "Current number is 21\n"
     ]
    },
    {
     "ename": "AttributeError",
     "evalue": "type object 'Number' has no attribute '__op_num'",
     "output_type": "error",
     "traceback": [
      "\u001b[1;31m---------------------------------------------------------------------------\u001b[0m",
      "\u001b[1;31mAttributeError\u001b[0m                            Traceback (most recent call last)",
      "\u001b[1;32md:\\Projects\\Ash1sc\\Data-Analyse-Sample-Code\\Typing\\type.ipynb 单元格 12\u001b[0m line \u001b[0;36m3\n\u001b[0;32m     <a href='vscode-notebook-cell:/d%3A/Projects/Ash1sc/Data-Analyse-Sample-Code/Typing/type.ipynb#X14sZmlsZQ%3D%3D?line=26'>27</a>\u001b[0m n1: Number\u001b[39m=\u001b[39mNumber(\u001b[39m13\u001b[39m)\n\u001b[0;32m     <a href='vscode-notebook-cell:/d%3A/Projects/Ash1sc/Data-Analyse-Sample-Code/Typing/type.ipynb#X14sZmlsZQ%3D%3D?line=28'>29</a>\u001b[0m \u001b[39mprint\u001b[39m(n\u001b[39m.\u001b[39mdouble()\u001b[39m.\u001b[39madd_one())\n\u001b[1;32m---> <a href='vscode-notebook-cell:/d%3A/Projects/Ash1sc/Data-Analyse-Sample-Code/Typing/type.ipynb#X14sZmlsZQ%3D%3D?line=29'>30</a>\u001b[0m \u001b[39mprint\u001b[39m(Number\u001b[39m.\u001b[39m__op_num)\n\u001b[0;32m     <a href='vscode-notebook-cell:/d%3A/Projects/Ash1sc/Data-Analyse-Sample-Code/Typing/type.ipynb#X14sZmlsZQ%3D%3D?line=30'>31</a>\u001b[0m \u001b[39mprint\u001b[39m(n\u001b[39m.\u001b[39m__op_num)\n\u001b[0;32m     <a href='vscode-notebook-cell:/d%3A/Projects/Ash1sc/Data-Analyse-Sample-Code/Typing/type.ipynb#X14sZmlsZQ%3D%3D?line=31'>32</a>\u001b[0m \u001b[39mprint\u001b[39m(n1\u001b[39m.\u001b[39m__op_num)\n",
      "\u001b[1;31mAttributeError\u001b[0m: type object 'Number' has no attribute '__op_num'"
     ]
    }
   ],
   "source": [
    "from __future__ import annotations\n",
    "from typing_extensions import Self\n",
    "from typing import ClassVar\n",
    "\n",
    "\n",
    "class Number:\n",
    "\n",
    "    op_num: ClassVar[int] = 0\n",
    "\n",
    "    def __init__(self, number: int) -> None:\n",
    "        self._number = number\n",
    "\n",
    "    # 将对象本身返回出去\n",
    "    # also: def double(self)->'Number': but cause trouble when changing class name\n",
    "    def double(self) -> Self:\n",
    "        self._number *= 2\n",
    "        Number.op_num += 1\n",
    "\n",
    "        return self\n",
    "\n",
    "    def add_one(self) -> Self:\n",
    "        self._number += 1\n",
    "        Number.op_num += 1\n",
    "        return self\n",
    "\n",
    "    def __str__(self) -> str:\n",
    "        return f\"Current number is {self._number}\"\n",
    "\n",
    "\n",
    "n: Number = Number(10)\n",
    "n1: Number = Number(13)\n",
    "\n",
    "print(n.double().add_one())\n",
    "print(Number.op_num)\n",
    "print(n.op_num)\n",
    "print(n1.op_num)"
   ]
  },
  {
   "cell_type": "markdown",
   "metadata": {},
   "source": [
    "## Literal \n",
    "限制变量只能是指定的字面量\n",
    "Literal可以接受任何不可变的类型，如整数，浮点数，字符串，布尔值等\n",
    "常常用在```类型检查```和```自动补全```中"
   ]
  },
  {
   "cell_type": "code",
   "execution_count": null,
   "metadata": {},
   "outputs": [],
   "source": [
    "from typing import Literal\n",
    "\n",
    "\n",
    "def process_data(data_type: Literal['csv', 'json']) -> None:\n",
    "    match data_type:\n",
    "        case \"csv\":\n",
    "            pass\n",
    "        case \"json\":\n",
    "            pass\n",
    "        case _:\n",
    "            pass"
   ]
  },
  {
   "cell_type": "markdown",
   "metadata": {},
   "source": [
    "## TypeVar\n",
    "是一个特殊的类型，它可以用来表示“任意类型”，他常常用在泛型中，可以帮助我们写出更加通用的函数"
   ]
  },
  {
   "cell_type": "code",
   "execution_count": null,
   "metadata": {},
   "outputs": [],
   "source": [
    "from typing import TypeVar, Union\n",
    "\n",
    "T = TypeVar('T', int, str)\n",
    "\n",
    "\n",
    "def add(a, b):\n",
    "    return a + b\n",
    "\n",
    "# Union不能保证前后变量的类型一致\n",
    "# def add(a: Union[int,str],b:Union[int, str])->Union[int,str]:\n",
    "#   return a+b\n",
    "\n",
    "\n",
    "# TypeVar 可以在函数中保持多个变量的一致性\n",
    "def general_add(a: T, b: T) -> T:\n",
    "    return a + b"
   ]
  },
  {
   "cell_type": "markdown",
   "metadata": {},
   "source": [
    "## ```Generic```: 在类里面使用泛型\n"
   ]
  },
  {
   "cell_type": "code",
   "execution_count": null,
   "metadata": {},
   "outputs": [],
   "source": [
    "from typing import List\n",
    "from typing import Generic\n",
    "\n",
    "\n",
    "T = TypeVar('T')\n",
    "\n",
    "\n",
    "class MyList(Generic[T]):\n",
    "    def __init__(self, items: List[T]) -> None:\n",
    "        self.items: List[T] = items\n",
    "\n",
    "    def append(self, item: T) -> None:\n",
    "        self.items.append(item)\n",
    "\n",
    "    def __str__(self) -> str:\n",
    "        return str(self.items)\n",
    "\n",
    "\n",
    "my_list = MyList[int]([1, 2, 3])\n",
    "my_list.append(4)\n",
    "\n",
    "print(my_list)"
   ]
  },
  {
   "cell_type": "markdown",
   "metadata": {},
   "source": [
    "## ```overload```方法签名重载\n",
    "对同名函数进行方法签名重载,并不会改变原来函数的意义,但是会给IDE提示,多个同样名字的函数以最后一个为准\n",
    "\n",
    "很多函数中传入的是args,分析在内部进行,函数提示由overload来提供, 能正确运行的函数需要放在最下面"
   ]
  },
  {
   "cell_type": "code",
   "execution_count": null,
   "metadata": {},
   "outputs": [],
   "source": [
    "from typing import overload\n",
    "\n",
    "from sqlalchemy import over\n",
    "\n",
    "\n",
    "@overload\n",
    "def add(a: int, b: int) -> int:\n",
    "    \"\"\"_summary_\n",
    "\n",
    "    Args:\n",
    "        a (int): _description_\n",
    "        b (int): _description_\n",
    "\n",
    "    Returns:\n",
    "        int: _description_\n",
    "    \"\"\"\n",
    "    return a + b\n",
    "\n",
    "\n",
    "@overload\n",
    "def add(a: str, b: str) -> str:\n",
    "    \"\"\"_summary_\n",
    "\n",
    "    Args:\n",
    "        a (str): _description_\n",
    "        b (str): _description_\n",
    "\n",
    "    Returns:\n",
    "        str: _description_\n",
    "    \"\"\"\n",
    "    return a + b\n",
    "\n",
    "\n",
    "def add(a, b):\n",
    "    return a + b\n",
    "\n",
    "\n",
    "add(1, 3)"
   ]
  },
  {
   "cell_type": "markdown",
   "metadata": {},
   "source": [
    "## ```override```\n",
    "用来检查子类是否已经正确重载了父类中的函数"
   ]
  },
  {
   "cell_type": "code",
   "execution_count": null,
   "metadata": {},
   "outputs": [],
   "source": [
    "from typing import override\n",
    "\n",
    "\n",
    "class Animal():\n",
    "    def __init__(self, name: str) -> None:\n",
    "        self.name = name\n",
    "\n",
    "    def make_sound(self) -> str:\n",
    "        return \"\"\n",
    "\n",
    "\n",
    "class Dog(Animal):\n",
    "    def __init__(self, name: str, breed: str) -> None:\n",
    "        super().__init__(name)\n",
    "        self.breed: str = breed\n",
    "\n",
    "    @override\n",
    "    def make_sound(self) -> str:\n",
    "        return \"Woof!\"\n",
    "\n",
    "\n",
    "class Cat(Animal):\n",
    "    def __init__(self, name: str, color: str) -> None:\n",
    "        super().__init__(name)\n",
    "        self.color: str = color\n",
    "\n",
    "    @override\n",
    "    def make_sound(self) -> str:\n",
    "        return \"Meow!\""
   ]
  },
  {
   "cell_type": "markdown",
   "metadata": {},
   "source": [
    "## ```Protocal```\n",
    "是一个抽象基类,它的作用是用来定义协议,它的子类可以用来表示协议, 如```Iterable```, ```Sequence```等"
   ]
  },
  {
   "cell_type": "code",
   "execution_count": 1,
   "metadata": {},
   "outputs": [
    {
     "name": "stdout",
     "output_type": "stream",
     "text": [
      "cat say Meow\n"
     ]
    }
   ],
   "source": [
    "from typing_extensions import Protocol\n",
    "\n",
    "\n",
    "class Animal(Protocol):\n",
    "    def make_sound(self, word: str) -> str:\n",
    "        return \"nothing\"\n",
    "\n",
    "\n",
    "class Dog:\n",
    "    def make_sound(self, word: str) -> str:\n",
    "        return f\"dog say {word}\"\n",
    "\n",
    "\n",
    "class Cat:\n",
    "    def make_sound(self, word: str) -> str:\n",
    "        return f\"cat say {word}\"\n",
    "\n",
    "\n",
    "def make_sound(a: Animal, word: str):\n",
    "    return a.make_sound(word)\n",
    "\n",
    "\n",
    "print(make_sound(Cat(), \"Meow\"))"
   ]
  },
  {
   "cell_type": "markdown",
   "metadata": {},
   "source": [
    "## TypedDict\n",
    "定义字典的键和值的类型"
   ]
  },
  {
   "cell_type": "code",
   "execution_count": 3,
   "metadata": {},
   "outputs": [],
   "source": [
    "from typing_extensions import TypedDict\n",
    "from typing_extensions import Required, NotRequired\n",
    "\n",
    "\n",
    "class Person(TypedDict):\n",
    "    name: str\n",
    "    age: int\n",
    "    email: NotRequired[str]\n",
    "    \n",
    "my_Dict: Person ={'age': 14, 'name':'zy'}"
   ]
  },
  {
   "cell_type": "markdown",
   "metadata": {},
   "source": [
    "## Unpack 解包\n",
    "用来解包一个字典\n",
    "给```**kwargs```提供更加精确的类型支持, 在写```**kwargs```的时候可以添加一个类型注解\n",
    "这个类型注解是```TypedDict```类型的```Dict```, 然后通过```Unpack```可以将这个字典传递给```**kwargs```"
   ]
  },
  {
   "cell_type": "code",
   "execution_count": 4,
   "metadata": {},
   "outputs": [
    {
     "name": "stdout",
     "output_type": "stream",
     "text": [
      "zy is 14 years old\n"
     ]
    }
   ],
   "source": [
    "from typing import Unpack\n",
    "from typing_extensions import TypedDict\n",
    "from typing_extensions import Required, NotRequired\n",
    "\n",
    "\n",
    "class Person(TypedDict):\n",
    "    name: str\n",
    "    age: int\n",
    "    email: NotRequired[str]\n",
    "    \n",
    "    \n",
    "def gt_person_info(*args,**kwargs: Unpack[Person])->str:\n",
    "    return f\"{kwargs['name']} is {kwargs['age']} years old\"\n",
    "\n",
    "\n",
    "print(gt_person_info(name='zy', age=14))"
   ]
  }
 ],
 "metadata": {
  "kernelspec": {
   "display_name": "Python 3 (ipykernel)",
   "language": "python",
   "name": "python3"
  },
  "language_info": {
   "codemirror_mode": {
    "name": "ipython",
    "version": 3
   },
   "file_extension": ".py",
   "mimetype": "text/x-python",
   "name": "python",
   "nbconvert_exporter": "python",
   "pygments_lexer": "ipython3",
   "version": "3.11.5"
  }
 },
 "nbformat": 4,
 "nbformat_minor": 2
}
