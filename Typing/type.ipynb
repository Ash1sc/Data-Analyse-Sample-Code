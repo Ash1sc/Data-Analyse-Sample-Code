{
 "cells": [
  {
   "cell_type": "code",
   "execution_count": null,
   "metadata": {},
   "outputs": [],
   "source": [
    "# TYPING IN PYTHON\n",
    "![视频链接]()"
   ]
  },
  {
   "cell_type": "markdown",
   "metadata": {},
   "source": [
    "## 类型注解放在什么地方\n",
    "变量后面或者函数后面\n",
    "### 变量类型\n",
    "- int\n",
    "- float\n",
    "- str\n",
    "- bool\n",
    "- bytes\n",
    "- Any\n",
    "- Tuple\n",
    "- List, list[dtype]\n",
    "- Dist, dict[type(key),type(value)]\n",
    "\n",
    "既可以是Python的基础类型，也可以是未实例化的类或者是typing里面提供的泛型"
   ]
  },
  {
   "cell_type": "code",
   "execution_count": null,
   "metadata": {},
   "outputs": [],
   "source": [
    "def f(a: int, b: int) -> int:\n",
    "    return a+b\n"
   ]
  },
  {
   "cell_type": "markdown",
   "metadata": {},
   "source": [
    "## 使用自己的类进行注解\n",
    "### 注意循环引入的问题\n",
    "解决方式：\n",
    "- TYPE_CHECKING: 有时候没啥用\n",
    "```python\n",
    "if TYPE_CHECKING:\n",
    "    from student import student\n",
    "```\n",
    "- 在一个注解的类型名称外面加''\n",
    "```python\n",
    "def get_student_name(self, s:'Student')->str:\n",
    "    return s.get_student_name()\n",
    "```\n",
    "- import annotations 仓库\n",
    "其实是自动在循环引用的类型外部加引号\n",
    "```python\n",
    "from __future__ import annotations\n",
    "```"
   ]
  },
  {
   "cell_type": "code",
   "execution_count": 6,
   "metadata": {},
   "outputs": [],
   "source": [
    "from __future__ import annotations\n",
    "\n",
    "class Teacher:\n",
    "    def get_name(self)->str:\n",
    "        return \"sch\"\n",
    "    \n",
    "    # 出现了循环引入的问题\n",
    "    # 1. 在一个类的外面加引号\n",
    "    # def get_student_name(self, s: 'Student') -> str:\n",
    "    def get_student_name(self, s: Student) -> str:\n",
    "        return s.get_name()\n",
    "    \n",
    "class Student:\n",
    "    def get_name(self)->str:\n",
    "        return \"zhaoyue\"\n",
    "    \n",
    "    # 标注自定义类帮助获取自定义类中函数所标注的typing信息\n",
    "    def get_teacher_name(self,teacher: Teacher)->str:\n",
    "        return teacher.get_name()"
   ]
  },
  {
   "cell_type": "code",
   "execution_count": 3,
   "metadata": {},
   "outputs": [
    {
     "name": "stdout",
     "output_type": "stream",
     "text": [
      "zhaoyue\n",
      "sch\n"
     ]
    }
   ],
   "source": [
    "s=Student()\n",
    "t=Teacher()\n",
    "\n",
    "print(s.get_name())\n",
    "print(s.get_teacher_name(t))"
   ]
  },
  {
   "cell_type": "markdown",
   "metadata": {},
   "source": [
    "## final不能修改的注解器\n"
   ]
  },
  {
   "cell_type": "markdown",
   "metadata": {},
   "source": [
    "python中没有常量这一概念，但可以限定某些变量不能被修改\n",
    "\n",
    "Final: 设置变量不能被修改\n",
    "@final: 装饰器，设置父类 函数不能被子类函数覆盖"
   ]
  },
  {
   "cell_type": "code",
   "execution_count": 2,
   "metadata": {},
   "outputs": [
    {
     "name": "stdout",
     "output_type": "stream",
     "text": [
      "11\n"
     ]
    }
   ],
   "source": [
    "from typing import Final, final\n",
    "\n",
    "a:Final[int]=10\n",
    "\n",
    "class Human:\n",
    "    \n",
    "    @final\n",
    "    def get_name(self)->str:\n",
    "        return \"\""
   ]
  },
  {
   "cell_type": "markdown",
   "metadata": {},
   "source": [
    "## 类型注解选项\n",
    "- Optional：在变量初始化的时候\n",
    "Optional[Teacher]: 既可以是Teacher， 也可以是None\n",
    "也可以：Teacher | None\n",
    "- Union: 参数中\n",
    "Union[str, int]: 函数参数既可以是str也可以是int\n",
    "也可以：str | int\n",
    "\n",
    "更精确的定义函数的类型 "
   ]
  },
  {
   "cell_type": "markdown",
   "metadata": {},
   "source": [
    "## 特殊类型\n",
    "- Self：返回类自身,return this 的情形\n",
    "有助于链式调用\n",
    "\n",
    "- ClassVar：相当于static"
   ]
  },
  {
   "cell_type": "code",
   "execution_count": 33,
   "metadata": {},
   "outputs": [
    {
     "name": "stdout",
     "output_type": "stream",
     "text": [
      "Current number is 21\n"
     ]
    },
    {
     "ename": "AttributeError",
     "evalue": "type object 'Number' has no attribute '__op_num'",
     "output_type": "error",
     "traceback": [
      "\u001b[1;31m---------------------------------------------------------------------------\u001b[0m",
      "\u001b[1;31mAttributeError\u001b[0m                            Traceback (most recent call last)",
      "\u001b[1;32md:\\Projects\\Ash1sc\\Data-Analyse-Sample-Code\\Typing\\type.ipynb 单元格 12\u001b[0m line \u001b[0;36m3\n\u001b[0;32m     <a href='vscode-notebook-cell:/d%3A/Projects/Ash1sc/Data-Analyse-Sample-Code/Typing/type.ipynb#X14sZmlsZQ%3D%3D?line=26'>27</a>\u001b[0m n1: Number\u001b[39m=\u001b[39mNumber(\u001b[39m13\u001b[39m)\n\u001b[0;32m     <a href='vscode-notebook-cell:/d%3A/Projects/Ash1sc/Data-Analyse-Sample-Code/Typing/type.ipynb#X14sZmlsZQ%3D%3D?line=28'>29</a>\u001b[0m \u001b[39mprint\u001b[39m(n\u001b[39m.\u001b[39mdouble()\u001b[39m.\u001b[39madd_one())\n\u001b[1;32m---> <a href='vscode-notebook-cell:/d%3A/Projects/Ash1sc/Data-Analyse-Sample-Code/Typing/type.ipynb#X14sZmlsZQ%3D%3D?line=29'>30</a>\u001b[0m \u001b[39mprint\u001b[39m(Number\u001b[39m.\u001b[39m__op_num)\n\u001b[0;32m     <a href='vscode-notebook-cell:/d%3A/Projects/Ash1sc/Data-Analyse-Sample-Code/Typing/type.ipynb#X14sZmlsZQ%3D%3D?line=30'>31</a>\u001b[0m \u001b[39mprint\u001b[39m(n\u001b[39m.\u001b[39m__op_num)\n\u001b[0;32m     <a href='vscode-notebook-cell:/d%3A/Projects/Ash1sc/Data-Analyse-Sample-Code/Typing/type.ipynb#X14sZmlsZQ%3D%3D?line=31'>32</a>\u001b[0m \u001b[39mprint\u001b[39m(n1\u001b[39m.\u001b[39m__op_num)\n",
      "\u001b[1;31mAttributeError\u001b[0m: type object 'Number' has no attribute '__op_num'"
     ]
    }
   ],
   "source": [
    "from __future__ import annotations\n",
    "from typing_extensions import Self\n",
    "from typing import ClassVar\n",
    "\n",
    "class Number:\n",
    "    \n",
    "    __op_num: ClassVar[int]=0\n",
    "    \n",
    "    def __init__(self, number: int)-> None:\n",
    "        self._number=number\n",
    "        \n",
    "    # 将对象本身返回出去\n",
    "    # also: def double(self)->'Number': but cause trouble when changing class name\n",
    "    def double(self)->Self:\n",
    "        self._number*=2\n",
    "        Number.__op_num+=1\n",
    "\n",
    "        return self\n",
    "    def add_one(self)->Self:\n",
    "        self._number+=1\n",
    "        Number.__op_num+=1\n",
    "        return self\n",
    "    def __str__(self) -> str:\n",
    "        return f\"Current number is {self._number}\"\n",
    "    \n",
    "n: Number=Number(10)\n",
    "n1: Number=Number(13)\n",
    "\n",
    "print(n.double().add_one())\n",
    "print(Number.__op_num)\n",
    "print(n.__op_num)\n",
    "print(n1.__op_num)"
   ]
  }
 ],
 "metadata": {
  "kernelspec": {
   "display_name": "base",
   "language": "python",
   "name": "python3"
  },
  "language_info": {
   "codemirror_mode": {
    "name": "ipython",
    "version": 3
   },
   "file_extension": ".py",
   "mimetype": "text/x-python",
   "name": "python",
   "nbconvert_exporter": "python",
   "pygments_lexer": "ipython3",
   "version": "3.11.5"
  }
 },
 "nbformat": 4,
 "nbformat_minor": 2
}
